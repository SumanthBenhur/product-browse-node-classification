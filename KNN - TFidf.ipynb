{
 "cells": [
  {
   "cell_type": "code",
   "execution_count": 1,
   "id": "6fbdc834",
   "metadata": {},
   "outputs": [],
   "source": [
    "import pandas as pd\n",
    "import numpy as np\n",
    "from sklearn.model_selection import train_test_split\n",
    "from sklearn.pipeline import Pipeline\n",
    "from sklearn.feature_extraction.text import TfidfVectorizer\n",
    "from sklearn.neighbors import KNeighborsClassifier"
   ]
  },
  {
   "cell_type": "code",
   "execution_count": 2,
   "id": "83961b30",
   "metadata": {},
   "outputs": [],
   "source": [
    "oversampled_df = pd.read_csv('oversampled_preprocessed.csv')"
   ]
  },
  {
   "cell_type": "markdown",
   "id": "4af1cd0b",
   "metadata": {},
   "source": [
    "# On oversampled data"
   ]
  },
  {
   "cell_type": "code",
   "execution_count": 3,
   "id": "19614ed4",
   "metadata": {},
   "outputs": [
    {
     "data": {
      "text/html": [
       "<div>\n",
       "<style scoped>\n",
       "    .dataframe tbody tr th:only-of-type {\n",
       "        vertical-align: middle;\n",
       "    }\n",
       "\n",
       "    .dataframe tbody tr th {\n",
       "        vertical-align: top;\n",
       "    }\n",
       "\n",
       "    .dataframe thead th {\n",
       "        text-align: right;\n",
       "    }\n",
       "</style>\n",
       "<table border=\"1\" class=\"dataframe\">\n",
       "  <thead>\n",
       "    <tr style=\"text-align: right;\">\n",
       "      <th></th>\n",
       "      <th>Unnamed: 0</th>\n",
       "      <th>product_name</th>\n",
       "      <th>product_category_tree</th>\n",
       "      <th>description</th>\n",
       "      <th>brand</th>\n",
       "      <th>classification_category</th>\n",
       "      <th>main_category</th>\n",
       "      <th>cleaned_description</th>\n",
       "    </tr>\n",
       "  </thead>\n",
       "  <tbody>\n",
       "    <tr>\n",
       "      <th>0</th>\n",
       "      <td>1523</td>\n",
       "      <td>Creative Spinach Blue Lion Fish Aquarium Toy S...</td>\n",
       "      <td>[\"Pet Supplies &gt;&gt; Toys &gt;&gt; Comfort Toys\"]</td>\n",
       "      <td>Buy Creative Spinach Blue Lion Fish Aquarium T...</td>\n",
       "      <td>Creative Spinach</td>\n",
       "      <td>petsupplies</td>\n",
       "      <td>1</td>\n",
       "      <td>buy creative spinach blue lion fish aquarium t...</td>\n",
       "    </tr>\n",
       "    <tr>\n",
       "      <th>1</th>\n",
       "      <td>16016</td>\n",
       "      <td>Pawzone Round Stainless Steel Pet Bowl</td>\n",
       "      <td>[\"Pet Supplies &gt;&gt; Storage &amp; Feeding Utensils &gt;...</td>\n",
       "      <td>Specifications of Pawzone Round Stainless Stee...</td>\n",
       "      <td>Pawzone</td>\n",
       "      <td>petsupplies</td>\n",
       "      <td>1</td>\n",
       "      <td>specification pawzone round stainless steel pe...</td>\n",
       "    </tr>\n",
       "    <tr>\n",
       "      <th>2</th>\n",
       "      <td>16038</td>\n",
       "      <td>Pawzone Round Stainless Steel Pet Bowl</td>\n",
       "      <td>[\"Pet Supplies &gt;&gt; Storage &amp; Feeding Utensils &gt;...</td>\n",
       "      <td>Key Features of Pawzone Round Stainless Steel ...</td>\n",
       "      <td>Pawzone</td>\n",
       "      <td>petsupplies</td>\n",
       "      <td>1</td>\n",
       "      <td>key feature pawzone round stainless steel pet ...</td>\n",
       "    </tr>\n",
       "    <tr>\n",
       "      <th>3</th>\n",
       "      <td>15619</td>\n",
       "      <td>Royal Canin Maxi Starter 1kg Vegetable Dog Food</td>\n",
       "      <td>[\"Pet Supplies &gt;&gt; Food &amp; Health Supplies &gt;&gt; Fo...</td>\n",
       "      <td>Specifications of Royal Canin Maxi Starter 1kg...</td>\n",
       "      <td>Royal Canin</td>\n",
       "      <td>petsupplies</td>\n",
       "      <td>1</td>\n",
       "      <td>specification royal canin maxi starter 1kg veg...</td>\n",
       "    </tr>\n",
       "    <tr>\n",
       "      <th>4</th>\n",
       "      <td>10214</td>\n",
       "      <td>Ocean Free Sponge Aquarium Filter</td>\n",
       "      <td>[\"Pet Supplies &gt;&gt; Habitat &gt;&gt; Habitat Essential...</td>\n",
       "      <td>Buy Ocean Free Sponge Aquarium Filter for Rs.1...</td>\n",
       "      <td>Ocean Free</td>\n",
       "      <td>petsupplies</td>\n",
       "      <td>1</td>\n",
       "      <td>buy ocean sponge aquarium filter rs 199 online...</td>\n",
       "    </tr>\n",
       "  </tbody>\n",
       "</table>\n",
       "</div>"
      ],
      "text/plain": [
       "   Unnamed: 0                                       product_name  \\\n",
       "0        1523  Creative Spinach Blue Lion Fish Aquarium Toy S...   \n",
       "1       16016             Pawzone Round Stainless Steel Pet Bowl   \n",
       "2       16038             Pawzone Round Stainless Steel Pet Bowl   \n",
       "3       15619    Royal Canin Maxi Starter 1kg Vegetable Dog Food   \n",
       "4       10214                  Ocean Free Sponge Aquarium Filter   \n",
       "\n",
       "                               product_category_tree  \\\n",
       "0           [\"Pet Supplies >> Toys >> Comfort Toys\"]   \n",
       "1  [\"Pet Supplies >> Storage & Feeding Utensils >...   \n",
       "2  [\"Pet Supplies >> Storage & Feeding Utensils >...   \n",
       "3  [\"Pet Supplies >> Food & Health Supplies >> Fo...   \n",
       "4  [\"Pet Supplies >> Habitat >> Habitat Essential...   \n",
       "\n",
       "                                         description             brand  \\\n",
       "0  Buy Creative Spinach Blue Lion Fish Aquarium T...  Creative Spinach   \n",
       "1  Specifications of Pawzone Round Stainless Stee...           Pawzone   \n",
       "2  Key Features of Pawzone Round Stainless Steel ...           Pawzone   \n",
       "3  Specifications of Royal Canin Maxi Starter 1kg...       Royal Canin   \n",
       "4  Buy Ocean Free Sponge Aquarium Filter for Rs.1...        Ocean Free   \n",
       "\n",
       "  classification_category  main_category  \\\n",
       "0             petsupplies              1   \n",
       "1             petsupplies              1   \n",
       "2             petsupplies              1   \n",
       "3             petsupplies              1   \n",
       "4             petsupplies              1   \n",
       "\n",
       "                                 cleaned_description  \n",
       "0  buy creative spinach blue lion fish aquarium t...  \n",
       "1  specification pawzone round stainless steel pe...  \n",
       "2  key feature pawzone round stainless steel pet ...  \n",
       "3  specification royal canin maxi starter 1kg veg...  \n",
       "4  buy ocean sponge aquarium filter rs 199 online...  "
      ]
     },
     "execution_count": 3,
     "metadata": {},
     "output_type": "execute_result"
    }
   ],
   "source": [
    "oversampled_df.head()"
   ]
  },
  {
   "cell_type": "code",
   "execution_count": 4,
   "id": "eb6c972a",
   "metadata": {},
   "outputs": [
    {
     "data": {
      "text/plain": [
       "toys&schoolsupplies    3000\n",
       "electronics            3000\n",
       "clothing               3000\n",
       "automotive             3000\n",
       "sports&fitness         3000\n",
       "footwear               3000\n",
       "housefurnishing        3000\n",
       "jewellery              3000\n",
       "ebooks                 3000\n",
       "petsupplies            3000\n",
       "tools&hardware         3000\n",
       "personalaccessories    3000\n",
       "babycare               3000\n",
       "Name: classification_category, dtype: int64"
      ]
     },
     "execution_count": 4,
     "metadata": {},
     "output_type": "execute_result"
    }
   ],
   "source": [
    "oversampled_df['classification_category'].value_counts()"
   ]
  },
  {
   "cell_type": "code",
   "execution_count": 5,
   "id": "a89fddb5",
   "metadata": {},
   "outputs": [],
   "source": [
    "oversampled_df['corpus'] = oversampled_df['product_name'] + ' ' + oversampled_df['cleaned_description']"
   ]
  },
  {
   "cell_type": "code",
   "execution_count": 13,
   "id": "fd36bc5a",
   "metadata": {},
   "outputs": [],
   "source": [
    "oversampled_df = oversampled_df.sample(frac = 1).reindex()"
   ]
  },
  {
   "cell_type": "code",
   "execution_count": 17,
   "id": "9bddb1ab",
   "metadata": {},
   "outputs": [],
   "source": [
    "oversampled_df[\"classification_category\"] = oversampled_df[\"classification_category\"].astype('category')\n",
    "oversampled_df['labels'] = oversampled_df.classification_category.cat.codes"
   ]
  },
  {
   "cell_type": "code",
   "execution_count": 18,
   "id": "5ddcec2e",
   "metadata": {},
   "outputs": [
    {
     "data": {
      "text/html": [
       "<div>\n",
       "<style scoped>\n",
       "    .dataframe tbody tr th:only-of-type {\n",
       "        vertical-align: middle;\n",
       "    }\n",
       "\n",
       "    .dataframe tbody tr th {\n",
       "        vertical-align: top;\n",
       "    }\n",
       "\n",
       "    .dataframe thead th {\n",
       "        text-align: right;\n",
       "    }\n",
       "</style>\n",
       "<table border=\"1\" class=\"dataframe\">\n",
       "  <thead>\n",
       "    <tr style=\"text-align: right;\">\n",
       "      <th></th>\n",
       "      <th>Unnamed: 0</th>\n",
       "      <th>product_name</th>\n",
       "      <th>product_category_tree</th>\n",
       "      <th>description</th>\n",
       "      <th>brand</th>\n",
       "      <th>classification_category</th>\n",
       "      <th>main_category</th>\n",
       "      <th>cleaned_description</th>\n",
       "      <th>corpus</th>\n",
       "      <th>labels</th>\n",
       "    </tr>\n",
       "  </thead>\n",
       "  <tbody>\n",
       "    <tr>\n",
       "      <th>31223</th>\n",
       "      <td>15991</td>\n",
       "      <td>Yonex Tour Tennis Ball -   Size: 5,  Diameter:...</td>\n",
       "      <td>[\"Sports &amp; Fitness &gt;&gt; Racquet Sports &gt;&gt; Tennis...</td>\n",
       "      <td>Specifications of Yonex Tour Tennis Ball -   S...</td>\n",
       "      <td>Yonex</td>\n",
       "      <td>sports&amp;fitness</td>\n",
       "      <td>1</td>\n",
       "      <td>specification yonex tour tennis ball size 5 di...</td>\n",
       "      <td>Yonex Tour Tennis Ball -   Size: 5,  Diameter:...</td>\n",
       "      <td>10</td>\n",
       "    </tr>\n",
       "  </tbody>\n",
       "</table>\n",
       "</div>"
      ],
      "text/plain": [
       "       Unnamed: 0                                       product_name  \\\n",
       "31223       15991  Yonex Tour Tennis Ball -   Size: 5,  Diameter:...   \n",
       "\n",
       "                                   product_category_tree  \\\n",
       "31223  [\"Sports & Fitness >> Racquet Sports >> Tennis...   \n",
       "\n",
       "                                             description  brand  \\\n",
       "31223  Specifications of Yonex Tour Tennis Ball -   S...  Yonex   \n",
       "\n",
       "      classification_category  main_category  \\\n",
       "31223          sports&fitness              1   \n",
       "\n",
       "                                     cleaned_description  \\\n",
       "31223  specification yonex tour tennis ball size 5 di...   \n",
       "\n",
       "                                                  corpus  labels  \n",
       "31223  Yonex Tour Tennis Ball -   Size: 5,  Diameter:...      10  "
      ]
     },
     "execution_count": 18,
     "metadata": {},
     "output_type": "execute_result"
    }
   ],
   "source": [
    "oversampled_df.head(1)"
   ]
  },
  {
   "cell_type": "code",
   "execution_count": 20,
   "id": "f28cc6e3",
   "metadata": {},
   "outputs": [],
   "source": [
    "# splitting train and validation data\n",
    "from sklearn.model_selection import train_test_split\n",
    "over_train, over_valid = train_test_split(oversampled_df, train_size = 0.8, test_size = 0.2, random_state = 0)"
   ]
  },
  {
   "cell_type": "code",
   "execution_count": 21,
   "id": "f3c5155c",
   "metadata": {},
   "outputs": [
    {
     "name": "stdout",
     "output_type": "stream",
     "text": [
      "(31200, 10) (7800, 10)\n"
     ]
    }
   ],
   "source": [
    "print(over_train.shape, over_valid.shape)"
   ]
  },
  {
   "cell_type": "code",
   "execution_count": 22,
   "id": "8c175c57",
   "metadata": {},
   "outputs": [],
   "source": [
    "over_train_X = over_train.corpus\n",
    "over_train_y = over_train.labels\n",
    "over_valid_X = over_valid.corpus\n",
    "over_valid_y = over_valid.labels"
   ]
  },
  {
   "cell_type": "code",
   "execution_count": 23,
   "id": "111c2eed",
   "metadata": {},
   "outputs": [],
   "source": [
    "from sklearn.pipeline import Pipeline\n",
    "from sklearn.feature_extraction.text import TfidfVectorizer\n",
    "from sklearn.neighbors import KNeighborsClassifier\n",
    "\n",
    "text_clf = Pipeline([('tfidf',TfidfVectorizer()),\n",
    "                    ('clf', KNeighborsClassifier(n_neighbors=5)),])\n"
   ]
  },
  {
   "cell_type": "code",
   "execution_count": 24,
   "id": "70c609d9",
   "metadata": {},
   "outputs": [
    {
     "data": {
      "text/plain": [
       "Pipeline(steps=[('tfidf', TfidfVectorizer()), ('clf', KNeighborsClassifier())])"
      ]
     },
     "execution_count": 24,
     "metadata": {},
     "output_type": "execute_result"
    }
   ],
   "source": [
    "text_clf.fit(over_train_X,over_train_y)"
   ]
  },
  {
   "cell_type": "code",
   "execution_count": 25,
   "id": "e555173c",
   "metadata": {},
   "outputs": [],
   "source": [
    "predictions=text_clf.predict(over_valid_X)"
   ]
  },
  {
   "cell_type": "code",
   "execution_count": 26,
   "id": "4732d561",
   "metadata": {},
   "outputs": [
    {
     "name": "stdout",
     "output_type": "stream",
     "text": [
      "0.9815384615384616\n"
     ]
    }
   ],
   "source": [
    "from sklearn.metrics import accuracy_score\n",
    "print(accuracy_score(over_valid_y, predictions))"
   ]
  },
  {
   "cell_type": "markdown",
   "id": "7e91e81f",
   "metadata": {},
   "source": [
    "# On unbalanced data"
   ]
  },
  {
   "cell_type": "code",
   "execution_count": 36,
   "id": "2bdc3699",
   "metadata": {},
   "outputs": [],
   "source": [
    "df = pd.read_csv('unbalanced_preprocessed.csv')"
   ]
  },
  {
   "cell_type": "code",
   "execution_count": 37,
   "id": "8d5cdf9c",
   "metadata": {},
   "outputs": [
    {
     "data": {
      "text/plain": [
       "clothing               5503\n",
       "jewellery              2946\n",
       "housefurnishing        2307\n",
       "personalaccessories    1535\n",
       "electronics            1292\n",
       "footwear               1123\n",
       "automotive             1009\n",
       "toys&schoolsupplies     626\n",
       "tools&hardware          333\n",
       "babycare                324\n",
       "sports&fitness          166\n",
       "petsupplies              30\n",
       "ebooks                   15\n",
       "Name: classification_category, dtype: int64"
      ]
     },
     "execution_count": 37,
     "metadata": {},
     "output_type": "execute_result"
    }
   ],
   "source": [
    "df = df[df['main_category'] == 1]\n",
    "df['classification_category'].value_counts()"
   ]
  },
  {
   "cell_type": "code",
   "execution_count": 38,
   "id": "48f0571d",
   "metadata": {},
   "outputs": [],
   "source": [
    "df['corpus'] = df['product_name'] + ' ' + df['cleaned_description']"
   ]
  },
  {
   "cell_type": "code",
   "execution_count": 39,
   "id": "214c5820",
   "metadata": {},
   "outputs": [],
   "source": [
    "df = df.sample(frac = 1).reindex()"
   ]
  },
  {
   "cell_type": "code",
   "execution_count": 43,
   "id": "c5571496",
   "metadata": {},
   "outputs": [],
   "source": [
    "df[\"classification_category\"] = df[\"classification_category\"].astype('category')\n",
    "df['labels'] = df.classification_category.cat.codes"
   ]
  },
  {
   "cell_type": "code",
   "execution_count": 44,
   "id": "26ed615d",
   "metadata": {},
   "outputs": [
    {
     "data": {
      "text/html": [
       "<div>\n",
       "<style scoped>\n",
       "    .dataframe tbody tr th:only-of-type {\n",
       "        vertical-align: middle;\n",
       "    }\n",
       "\n",
       "    .dataframe tbody tr th {\n",
       "        vertical-align: top;\n",
       "    }\n",
       "\n",
       "    .dataframe thead th {\n",
       "        text-align: right;\n",
       "    }\n",
       "</style>\n",
       "<table border=\"1\" class=\"dataframe\">\n",
       "  <thead>\n",
       "    <tr style=\"text-align: right;\">\n",
       "      <th></th>\n",
       "      <th>Unnamed: 0</th>\n",
       "      <th>product_name</th>\n",
       "      <th>product_category_tree</th>\n",
       "      <th>description</th>\n",
       "      <th>brand</th>\n",
       "      <th>classification_category</th>\n",
       "      <th>main_category</th>\n",
       "      <th>cleaned_description</th>\n",
       "      <th>corpus</th>\n",
       "      <th>labels</th>\n",
       "    </tr>\n",
       "  </thead>\n",
       "  <tbody>\n",
       "    <tr>\n",
       "      <th>1813</th>\n",
       "      <td>1813</td>\n",
       "      <td>RETAIL SHOP INDIA Printed Girl's Straight Kurta</td>\n",
       "      <td>[\"Clothing &gt;&gt; Kids' Clothing &gt;&gt; Girls Wear &gt;&gt; ...</td>\n",
       "      <td>Specifications of RETAIL SHOP INDIA Printed Gi...</td>\n",
       "      <td>RETAIL SHOP INDIA</td>\n",
       "      <td>clothing</td>\n",
       "      <td>1</td>\n",
       "      <td>specification retail shop india print girl s s...</td>\n",
       "      <td>RETAIL SHOP INDIA Printed Girl's Straight Kurt...</td>\n",
       "      <td>2</td>\n",
       "    </tr>\n",
       "  </tbody>\n",
       "</table>\n",
       "</div>"
      ],
      "text/plain": [
       "      Unnamed: 0                                     product_name  \\\n",
       "1813        1813  RETAIL SHOP INDIA Printed Girl's Straight Kurta   \n",
       "\n",
       "                                  product_category_tree  \\\n",
       "1813  [\"Clothing >> Kids' Clothing >> Girls Wear >> ...   \n",
       "\n",
       "                                            description              brand  \\\n",
       "1813  Specifications of RETAIL SHOP INDIA Printed Gi...  RETAIL SHOP INDIA   \n",
       "\n",
       "     classification_category  main_category  \\\n",
       "1813                clothing              1   \n",
       "\n",
       "                                    cleaned_description  \\\n",
       "1813  specification retail shop india print girl s s...   \n",
       "\n",
       "                                                 corpus  labels  \n",
       "1813  RETAIL SHOP INDIA Printed Girl's Straight Kurt...       2  "
      ]
     },
     "execution_count": 44,
     "metadata": {},
     "output_type": "execute_result"
    }
   ],
   "source": [
    "df.head(1)"
   ]
  },
  {
   "cell_type": "code",
   "execution_count": 45,
   "id": "dd72390a",
   "metadata": {},
   "outputs": [],
   "source": [
    "# splitting train and validation data\n",
    "from sklearn.model_selection import train_test_split\n",
    "train, valid = train_test_split(df, train_size = 0.8, test_size = 0.2, random_state = 0)"
   ]
  },
  {
   "cell_type": "code",
   "execution_count": 46,
   "id": "ee2bee8c",
   "metadata": {},
   "outputs": [],
   "source": [
    "train_X = train.corpus\n",
    "train_y = train.labels\n",
    "valid_X = valid.corpus\n",
    "valid_y = valid.labels"
   ]
  },
  {
   "cell_type": "code",
   "execution_count": 47,
   "id": "53f30860",
   "metadata": {},
   "outputs": [
    {
     "data": {
      "text/plain": [
       "Pipeline(steps=[('tfidf', TfidfVectorizer()), ('clf', KNeighborsClassifier())])"
      ]
     },
     "execution_count": 47,
     "metadata": {},
     "output_type": "execute_result"
    }
   ],
   "source": [
    "unbal_text_clf = Pipeline([('tfidf',TfidfVectorizer()),\n",
    "                    ('clf', KNeighborsClassifier(n_neighbors=5)),])\n",
    "unbal_text_clf.fit(train_X,train_y)"
   ]
  },
  {
   "cell_type": "code",
   "execution_count": 48,
   "id": "701d1db4",
   "metadata": {},
   "outputs": [],
   "source": [
    "pred = unbal_text_clf.predict(valid_X)"
   ]
  },
  {
   "cell_type": "code",
   "execution_count": 49,
   "id": "80428eb7",
   "metadata": {},
   "outputs": [
    {
     "name": "stdout",
     "output_type": "stream",
     "text": [
      "0.9552585705984893\n"
     ]
    }
   ],
   "source": [
    "print(accuracy_score(valid_y, pred))"
   ]
  },
  {
   "cell_type": "code",
   "execution_count": null,
   "id": "582efff0",
   "metadata": {},
   "outputs": [],
   "source": []
  }
 ],
 "metadata": {
  "kernelspec": {
   "display_name": "Python 3",
   "language": "python",
   "name": "python3"
  },
  "language_info": {
   "codemirror_mode": {
    "name": "ipython",
    "version": 3
   },
   "file_extension": ".py",
   "mimetype": "text/x-python",
   "name": "python",
   "nbconvert_exporter": "python",
   "pygments_lexer": "ipython3",
   "version": "3.9.6"
  }
 },
 "nbformat": 4,
 "nbformat_minor": 5
}
