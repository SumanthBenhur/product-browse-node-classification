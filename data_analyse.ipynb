{
 "cells": [
  {
   "cell_type": "markdown",
   "source": [
    "## Discarded due to lack of computation power"
   ],
   "metadata": {}
  },
  {
   "cell_type": "code",
   "execution_count": 1,
   "source": [
    "import pandas as pd\n",
    "import numpy as np\n",
    "import csv\n",
    "from sklearn.model_selection import train_test_split\n",
    "import gc\n",
    "import pickle\n",
    "import joblib\n",
    "import os"
   ],
   "outputs": [],
   "metadata": {}
  },
  {
   "cell_type": "code",
   "execution_count": 2,
   "source": [
    "train = pd.read_csv('dataset/train.csv', escapechar = \"\\\\\", quoting = csv.QUOTE_NONE, dtype = {'BROWSE_NODE_ID' : np.uint16})"
   ],
   "outputs": [],
   "metadata": {}
  },
  {
   "cell_type": "code",
   "execution_count": 3,
   "source": [
    "train.head()"
   ],
   "outputs": [
    {
     "output_type": "execute_result",
     "data": {
      "text/plain": [
       "                                               TITLE  \\\n",
       "0         Pete The Cat Bedtime Blues Doll, 14.5 Inch   \n",
       "1  The New Yorker NYHM014 Refrigerator Magnet, 2 ...   \n",
       "2  The Ultimate Self-Sufficiency Handbook: A Comp...   \n",
       "3   Amway Nutrilite Kids Chewable Iron Tablets (100)   \n",
       "4  Teacher Planner Company A4 6 Lesson Academic T...   \n",
       "\n",
       "                                         DESCRIPTION  \\\n",
       "0  Pete the Cat is the coolest, most popular cat ...   \n",
       "1  The New Yorker Handsome Cello Wrapped Hard Mag...   \n",
       "2                                                NaN   \n",
       "3                                                NaN   \n",
       "4                                                NaN   \n",
       "\n",
       "                                       BULLET_POINTS           BRAND  \\\n",
       "0  [Pete the Cat Bedtime Blues plush doll,Based o...     MerryMakers   \n",
       "1  [Cat In A Tea Cup by New Yorker cover artist G...  The New Yorker   \n",
       "2                                Skyhorse Publishing          imusti   \n",
       "3  [Nutrilite Kids,Chewable Iron Tablets,Quantity...           Amway   \n",
       "4                                                NaN             NaN   \n",
       "\n",
       "   BROWSE_NODE_ID  \n",
       "0               0  \n",
       "1               1  \n",
       "2               2  \n",
       "3               3  \n",
       "4               4  "
      ],
      "text/html": [
       "<div>\n",
       "<style scoped>\n",
       "    .dataframe tbody tr th:only-of-type {\n",
       "        vertical-align: middle;\n",
       "    }\n",
       "\n",
       "    .dataframe tbody tr th {\n",
       "        vertical-align: top;\n",
       "    }\n",
       "\n",
       "    .dataframe thead th {\n",
       "        text-align: right;\n",
       "    }\n",
       "</style>\n",
       "<table border=\"1\" class=\"dataframe\">\n",
       "  <thead>\n",
       "    <tr style=\"text-align: right;\">\n",
       "      <th></th>\n",
       "      <th>TITLE</th>\n",
       "      <th>DESCRIPTION</th>\n",
       "      <th>BULLET_POINTS</th>\n",
       "      <th>BRAND</th>\n",
       "      <th>BROWSE_NODE_ID</th>\n",
       "    </tr>\n",
       "  </thead>\n",
       "  <tbody>\n",
       "    <tr>\n",
       "      <th>0</th>\n",
       "      <td>Pete The Cat Bedtime Blues Doll, 14.5 Inch</td>\n",
       "      <td>Pete the Cat is the coolest, most popular cat ...</td>\n",
       "      <td>[Pete the Cat Bedtime Blues plush doll,Based o...</td>\n",
       "      <td>MerryMakers</td>\n",
       "      <td>0</td>\n",
       "    </tr>\n",
       "    <tr>\n",
       "      <th>1</th>\n",
       "      <td>The New Yorker NYHM014 Refrigerator Magnet, 2 ...</td>\n",
       "      <td>The New Yorker Handsome Cello Wrapped Hard Mag...</td>\n",
       "      <td>[Cat In A Tea Cup by New Yorker cover artist G...</td>\n",
       "      <td>The New Yorker</td>\n",
       "      <td>1</td>\n",
       "    </tr>\n",
       "    <tr>\n",
       "      <th>2</th>\n",
       "      <td>The Ultimate Self-Sufficiency Handbook: A Comp...</td>\n",
       "      <td>NaN</td>\n",
       "      <td>Skyhorse Publishing</td>\n",
       "      <td>imusti</td>\n",
       "      <td>2</td>\n",
       "    </tr>\n",
       "    <tr>\n",
       "      <th>3</th>\n",
       "      <td>Amway Nutrilite Kids Chewable Iron Tablets (100)</td>\n",
       "      <td>NaN</td>\n",
       "      <td>[Nutrilite Kids,Chewable Iron Tablets,Quantity...</td>\n",
       "      <td>Amway</td>\n",
       "      <td>3</td>\n",
       "    </tr>\n",
       "    <tr>\n",
       "      <th>4</th>\n",
       "      <td>Teacher Planner Company A4 6 Lesson Academic T...</td>\n",
       "      <td>NaN</td>\n",
       "      <td>NaN</td>\n",
       "      <td>NaN</td>\n",
       "      <td>4</td>\n",
       "    </tr>\n",
       "  </tbody>\n",
       "</table>\n",
       "</div>"
      ]
     },
     "metadata": {},
     "execution_count": 3
    }
   ],
   "metadata": {}
  },
  {
   "cell_type": "code",
   "execution_count": 4,
   "source": [
    "train.shape"
   ],
   "outputs": [
    {
     "output_type": "execute_result",
     "data": {
      "text/plain": [
       "(2903024, 5)"
      ]
     },
     "metadata": {},
     "execution_count": 4
    }
   ],
   "metadata": {}
  },
  {
   "cell_type": "code",
   "execution_count": 5,
   "source": [
    "# Drop rows with more than 2 null values\n",
    "train_thresh = train.dropna(thresh=3)\n",
    "train_thresh.head()"
   ],
   "outputs": [
    {
     "output_type": "execute_result",
     "data": {
      "text/plain": [
       "                                               TITLE  \\\n",
       "0         Pete The Cat Bedtime Blues Doll, 14.5 Inch   \n",
       "1  The New Yorker NYHM014 Refrigerator Magnet, 2 ...   \n",
       "2  The Ultimate Self-Sufficiency Handbook: A Comp...   \n",
       "3   Amway Nutrilite Kids Chewable Iron Tablets (100)   \n",
       "5  Men'S Full Sleeve Raglan T-Shirts Denim T-Shir...   \n",
       "\n",
       "                                         DESCRIPTION  \\\n",
       "0  Pete the Cat is the coolest, most popular cat ...   \n",
       "1  The New Yorker Handsome Cello Wrapped Hard Mag...   \n",
       "2                                                NaN   \n",
       "3                                                NaN   \n",
       "5  Men'S Full Sleeve Raglan T-Shirts Denim T-Shir...   \n",
       "\n",
       "                                       BULLET_POINTS              BRAND  \\\n",
       "0  [Pete the Cat Bedtime Blues plush doll,Based o...        MerryMakers   \n",
       "1  [Cat In A Tea Cup by New Yorker cover artist G...     The New Yorker   \n",
       "2                                Skyhorse Publishing             imusti   \n",
       "3  [Nutrilite Kids,Chewable Iron Tablets,Quantity...              Amway   \n",
       "5  [Color: Blue,Sleeve: Full Sleeve,Material: Cot...  Bhavya Enterprise   \n",
       "\n",
       "   BROWSE_NODE_ID  \n",
       "0               0  \n",
       "1               1  \n",
       "2               2  \n",
       "3               3  \n",
       "5               5  "
      ],
      "text/html": [
       "<div>\n",
       "<style scoped>\n",
       "    .dataframe tbody tr th:only-of-type {\n",
       "        vertical-align: middle;\n",
       "    }\n",
       "\n",
       "    .dataframe tbody tr th {\n",
       "        vertical-align: top;\n",
       "    }\n",
       "\n",
       "    .dataframe thead th {\n",
       "        text-align: right;\n",
       "    }\n",
       "</style>\n",
       "<table border=\"1\" class=\"dataframe\">\n",
       "  <thead>\n",
       "    <tr style=\"text-align: right;\">\n",
       "      <th></th>\n",
       "      <th>TITLE</th>\n",
       "      <th>DESCRIPTION</th>\n",
       "      <th>BULLET_POINTS</th>\n",
       "      <th>BRAND</th>\n",
       "      <th>BROWSE_NODE_ID</th>\n",
       "    </tr>\n",
       "  </thead>\n",
       "  <tbody>\n",
       "    <tr>\n",
       "      <th>0</th>\n",
       "      <td>Pete The Cat Bedtime Blues Doll, 14.5 Inch</td>\n",
       "      <td>Pete the Cat is the coolest, most popular cat ...</td>\n",
       "      <td>[Pete the Cat Bedtime Blues plush doll,Based o...</td>\n",
       "      <td>MerryMakers</td>\n",
       "      <td>0</td>\n",
       "    </tr>\n",
       "    <tr>\n",
       "      <th>1</th>\n",
       "      <td>The New Yorker NYHM014 Refrigerator Magnet, 2 ...</td>\n",
       "      <td>The New Yorker Handsome Cello Wrapped Hard Mag...</td>\n",
       "      <td>[Cat In A Tea Cup by New Yorker cover artist G...</td>\n",
       "      <td>The New Yorker</td>\n",
       "      <td>1</td>\n",
       "    </tr>\n",
       "    <tr>\n",
       "      <th>2</th>\n",
       "      <td>The Ultimate Self-Sufficiency Handbook: A Comp...</td>\n",
       "      <td>NaN</td>\n",
       "      <td>Skyhorse Publishing</td>\n",
       "      <td>imusti</td>\n",
       "      <td>2</td>\n",
       "    </tr>\n",
       "    <tr>\n",
       "      <th>3</th>\n",
       "      <td>Amway Nutrilite Kids Chewable Iron Tablets (100)</td>\n",
       "      <td>NaN</td>\n",
       "      <td>[Nutrilite Kids,Chewable Iron Tablets,Quantity...</td>\n",
       "      <td>Amway</td>\n",
       "      <td>3</td>\n",
       "    </tr>\n",
       "    <tr>\n",
       "      <th>5</th>\n",
       "      <td>Men'S Full Sleeve Raglan T-Shirts Denim T-Shir...</td>\n",
       "      <td>Men'S Full Sleeve Raglan T-Shirts Denim T-Shir...</td>\n",
       "      <td>[Color: Blue,Sleeve: Full Sleeve,Material: Cot...</td>\n",
       "      <td>Bhavya Enterprise</td>\n",
       "      <td>5</td>\n",
       "    </tr>\n",
       "  </tbody>\n",
       "</table>\n",
       "</div>"
      ]
     },
     "metadata": {},
     "execution_count": 5
    }
   ],
   "metadata": {}
  },
  {
   "cell_type": "code",
   "execution_count": 6,
   "source": [
    "del train\n",
    "gc.collect()"
   ],
   "outputs": [
    {
     "output_type": "execute_result",
     "data": {
      "text/plain": [
       "0"
      ]
     },
     "metadata": {},
     "execution_count": 6
    }
   ],
   "metadata": {}
  },
  {
   "cell_type": "code",
   "execution_count": 7,
   "source": [
    "train_thresh.shape"
   ],
   "outputs": [
    {
     "output_type": "execute_result",
     "data": {
      "text/plain": [
       "(2855971, 5)"
      ]
     },
     "metadata": {},
     "execution_count": 7
    }
   ],
   "metadata": {}
  },
  {
   "cell_type": "code",
   "execution_count": 8,
   "source": [
    "train_thresh.dtypes"
   ],
   "outputs": [
    {
     "output_type": "execute_result",
     "data": {
      "text/plain": [
       "TITLE             object\n",
       "DESCRIPTION       object\n",
       "BULLET_POINTS     object\n",
       "BRAND             object\n",
       "BROWSE_NODE_ID    uint16\n",
       "dtype: object"
      ]
     },
     "metadata": {},
     "execution_count": 8
    }
   ],
   "metadata": {}
  },
  {
   "cell_type": "code",
   "execution_count": 9,
   "source": [
    "# Check number of null values in each column\n",
    "train_thresh.isnull().sum(axis = 0)"
   ],
   "outputs": [
    {
     "output_type": "execute_result",
     "data": {
      "text/plain": [
       "TITLE                 60\n",
       "DESCRIPTION       676612\n",
       "BULLET_POINTS     119210\n",
       "BRAND               9685\n",
       "BROWSE_NODE_ID         0\n",
       "dtype: int64"
      ]
     },
     "metadata": {},
     "execution_count": 9
    }
   ],
   "metadata": {}
  },
  {
   "cell_type": "code",
   "execution_count": 10,
   "source": [
    "# Count number of classes / product browse nodes\n",
    "len(train_thresh['BROWSE_NODE_ID'].unique())"
   ],
   "outputs": [
    {
     "output_type": "execute_result",
     "data": {
      "text/plain": [
       "9334"
      ]
     },
     "metadata": {},
     "execution_count": 10
    }
   ],
   "metadata": {}
  },
  {
   "cell_type": "code",
   "execution_count": 11,
   "source": [
    "# Replace NaN values with space\n",
    "train_replaced_NaN = train_thresh.replace(np.nan, '', regex=True)"
   ],
   "outputs": [],
   "metadata": {}
  },
  {
   "cell_type": "code",
   "execution_count": 12,
   "source": [
    "del train_thresh\n",
    "gc.collect()"
   ],
   "outputs": [
    {
     "output_type": "execute_result",
     "data": {
      "text/plain": [
       "0"
      ]
     },
     "metadata": {},
     "execution_count": 12
    }
   ],
   "metadata": {}
  },
  {
   "cell_type": "code",
   "execution_count": 13,
   "source": [
    "train_replaced_NaN.head()"
   ],
   "outputs": [
    {
     "output_type": "execute_result",
     "data": {
      "text/plain": [
       "                                               TITLE  \\\n",
       "0         Pete The Cat Bedtime Blues Doll, 14.5 Inch   \n",
       "1  The New Yorker NYHM014 Refrigerator Magnet, 2 ...   \n",
       "2  The Ultimate Self-Sufficiency Handbook: A Comp...   \n",
       "3   Amway Nutrilite Kids Chewable Iron Tablets (100)   \n",
       "5  Men'S Full Sleeve Raglan T-Shirts Denim T-Shir...   \n",
       "\n",
       "                                         DESCRIPTION  \\\n",
       "0  Pete the Cat is the coolest, most popular cat ...   \n",
       "1  The New Yorker Handsome Cello Wrapped Hard Mag...   \n",
       "2                                                      \n",
       "3                                                      \n",
       "5  Men'S Full Sleeve Raglan T-Shirts Denim T-Shir...   \n",
       "\n",
       "                                       BULLET_POINTS              BRAND  \\\n",
       "0  [Pete the Cat Bedtime Blues plush doll,Based o...        MerryMakers   \n",
       "1  [Cat In A Tea Cup by New Yorker cover artist G...     The New Yorker   \n",
       "2                                Skyhorse Publishing             imusti   \n",
       "3  [Nutrilite Kids,Chewable Iron Tablets,Quantity...              Amway   \n",
       "5  [Color: Blue,Sleeve: Full Sleeve,Material: Cot...  Bhavya Enterprise   \n",
       "\n",
       "   BROWSE_NODE_ID  \n",
       "0               0  \n",
       "1               1  \n",
       "2               2  \n",
       "3               3  \n",
       "5               5  "
      ],
      "text/html": [
       "<div>\n",
       "<style scoped>\n",
       "    .dataframe tbody tr th:only-of-type {\n",
       "        vertical-align: middle;\n",
       "    }\n",
       "\n",
       "    .dataframe tbody tr th {\n",
       "        vertical-align: top;\n",
       "    }\n",
       "\n",
       "    .dataframe thead th {\n",
       "        text-align: right;\n",
       "    }\n",
       "</style>\n",
       "<table border=\"1\" class=\"dataframe\">\n",
       "  <thead>\n",
       "    <tr style=\"text-align: right;\">\n",
       "      <th></th>\n",
       "      <th>TITLE</th>\n",
       "      <th>DESCRIPTION</th>\n",
       "      <th>BULLET_POINTS</th>\n",
       "      <th>BRAND</th>\n",
       "      <th>BROWSE_NODE_ID</th>\n",
       "    </tr>\n",
       "  </thead>\n",
       "  <tbody>\n",
       "    <tr>\n",
       "      <th>0</th>\n",
       "      <td>Pete The Cat Bedtime Blues Doll, 14.5 Inch</td>\n",
       "      <td>Pete the Cat is the coolest, most popular cat ...</td>\n",
       "      <td>[Pete the Cat Bedtime Blues plush doll,Based o...</td>\n",
       "      <td>MerryMakers</td>\n",
       "      <td>0</td>\n",
       "    </tr>\n",
       "    <tr>\n",
       "      <th>1</th>\n",
       "      <td>The New Yorker NYHM014 Refrigerator Magnet, 2 ...</td>\n",
       "      <td>The New Yorker Handsome Cello Wrapped Hard Mag...</td>\n",
       "      <td>[Cat In A Tea Cup by New Yorker cover artist G...</td>\n",
       "      <td>The New Yorker</td>\n",
       "      <td>1</td>\n",
       "    </tr>\n",
       "    <tr>\n",
       "      <th>2</th>\n",
       "      <td>The Ultimate Self-Sufficiency Handbook: A Comp...</td>\n",
       "      <td></td>\n",
       "      <td>Skyhorse Publishing</td>\n",
       "      <td>imusti</td>\n",
       "      <td>2</td>\n",
       "    </tr>\n",
       "    <tr>\n",
       "      <th>3</th>\n",
       "      <td>Amway Nutrilite Kids Chewable Iron Tablets (100)</td>\n",
       "      <td></td>\n",
       "      <td>[Nutrilite Kids,Chewable Iron Tablets,Quantity...</td>\n",
       "      <td>Amway</td>\n",
       "      <td>3</td>\n",
       "    </tr>\n",
       "    <tr>\n",
       "      <th>5</th>\n",
       "      <td>Men'S Full Sleeve Raglan T-Shirts Denim T-Shir...</td>\n",
       "      <td>Men'S Full Sleeve Raglan T-Shirts Denim T-Shir...</td>\n",
       "      <td>[Color: Blue,Sleeve: Full Sleeve,Material: Cot...</td>\n",
       "      <td>Bhavya Enterprise</td>\n",
       "      <td>5</td>\n",
       "    </tr>\n",
       "  </tbody>\n",
       "</table>\n",
       "</div>"
      ]
     },
     "metadata": {},
     "execution_count": 13
    }
   ],
   "metadata": {}
  },
  {
   "cell_type": "code",
   "execution_count": 14,
   "source": [
    "# Split dataset into train and validation\n",
    "X = train_replaced_NaN[['TITLE', 'DESCRIPTION', 'BULLET_POINTS', 'BRAND']]\n",
    "y = train_replaced_NaN[\"BROWSE_NODE_ID\"]\n",
    "\n",
    "X_train, X_valid, y_train, y_valid = train_test_split(X, y, train_size = 0.8, test_size = 0.2, random_state = 0)"
   ],
   "outputs": [],
   "metadata": {}
  },
  {
   "cell_type": "code",
   "execution_count": 15,
   "source": [
    "\"\"\" del train_replaced_NaN\n",
    "gc.collect() \"\"\"\n",
    "del X\n",
    "del y\n",
    "gc.collect()"
   ],
   "outputs": [
    {
     "output_type": "execute_result",
     "data": {
      "text/plain": [
       "0"
      ]
     },
     "metadata": {},
     "execution_count": 15
    }
   ],
   "metadata": {}
  },
  {
   "cell_type": "code",
   "execution_count": 16,
   "source": [
    "# Corpus generation function\n",
    "def generateCorpus(df):\n",
    "    np_arr = df.to_numpy()\n",
    "    corpus = []\n",
    "    for product_desc in np_arr:\n",
    "        str = \"\"\n",
    "        for desc in product_desc:\n",
    "            str+=desc\n",
    "            str+= ', '\n",
    "        corpus.append(str + '\\n')\n",
    "    return corpus"
   ],
   "outputs": [],
   "metadata": {}
  },
  {
   "cell_type": "code",
   "execution_count": 17,
   "source": [
    "train_corpus = generateCorpus(X_train)"
   ],
   "outputs": [],
   "metadata": {}
  },
  {
   "cell_type": "code",
   "execution_count": 18,
   "source": [
    "del X_train\n",
    "gc.collect()"
   ],
   "outputs": [
    {
     "output_type": "execute_result",
     "data": {
      "text/plain": [
       "0"
      ]
     },
     "metadata": {},
     "execution_count": 18
    }
   ],
   "metadata": {}
  },
  {
   "cell_type": "code",
   "execution_count": null,
   "source": [
    "train_corpus[:3]"
   ],
   "outputs": [],
   "metadata": {}
  },
  {
   "cell_type": "code",
   "execution_count": 20,
   "source": [
    "\"\"\" import os\n",
    "txt_file = open(\"./corpus/train_corpus.txt\",\"w\", encoding = \"utf8\")\n",
    "for desc in train_corpus:\n",
    "    txt_file.write (desc + \"\\n\")\n",
    "txt_file.close() \"\"\""
   ],
   "outputs": [
    {
     "output_type": "execute_result",
     "data": {
      "text/plain": [
       "' import os\\ntxt_file = open(\"./corpus/train_corpus.txt\",\"w\", encoding = \"utf8\")\\nfor desc in train_corpus:\\n    txt_file.write (desc + \"\\n\")\\ntxt_file.close() '"
      ]
     },
     "metadata": {},
     "execution_count": 20
    }
   ],
   "metadata": {}
  },
  {
   "cell_type": "code",
   "execution_count": 21,
   "source": [
    "len(train_corpus)"
   ],
   "outputs": [
    {
     "output_type": "execute_result",
     "data": {
      "text/plain": [
       "2284776"
      ]
     },
     "metadata": {},
     "execution_count": 21
    }
   ],
   "metadata": {}
  },
  {
   "cell_type": "code",
   "execution_count": 22,
   "source": [
    "from sklearn.feature_extraction.text import TfidfVectorizer\n",
    "from sklearn.naive_bayes import MultinomialNB\n",
    "from sklearn.pipeline import make_pipeline"
   ],
   "outputs": [],
   "metadata": {}
  },
  {
   "cell_type": "code",
   "execution_count": 23,
   "source": [
    "model=make_pipeline(TfidfVectorizer(),MultinomialNB())\n",
    "model.fit(train_corpus,y_train)\n",
    "joblib.dump(model, './models/naiveBayes.pkl')\n",
    "print(\"hello saved model\")"
   ],
   "outputs": [],
   "metadata": {}
  },
  {
   "cell_type": "code",
   "execution_count": null,
   "source": [
    "\"\"\" labels=model.predict(X_valid) \"\"\""
   ],
   "outputs": [
    {
     "output_type": "error",
     "ename": "Error",
     "evalue": "Session cannot generate requests",
     "traceback": [
      "Error: Session cannot generate requests",
      "at w.executeCodeCell (/Users/sumanthbenhur/.vscode/extensions/ms-toolsai.jupyter-2021.8.1236758218/out/client/extension.js:90:327199)",
      "at w.execute (/Users/sumanthbenhur/.vscode/extensions/ms-toolsai.jupyter-2021.8.1236758218/out/client/extension.js:90:326520)",
      "at w.start (/Users/sumanthbenhur/.vscode/extensions/ms-toolsai.jupyter-2021.8.1236758218/out/client/extension.js:90:322336)",
      "at runMicrotasks (<anonymous>)",
      "at processTicksAndRejections (internal/process/task_queues.js:93:5)",
      "at async t.CellExecutionQueue.executeQueuedCells (/Users/sumanthbenhur/.vscode/extensions/ms-toolsai.jupyter-2021.8.1236758218/out/client/extension.js:90:336863)",
      "at async t.CellExecutionQueue.start (/Users/sumanthbenhur/.vscode/extensions/ms-toolsai.jupyter-2021.8.1236758218/out/client/extension.js:90:336403)"
     ]
    }
   ],
   "metadata": {}
  },
  {
   "cell_type": "code",
   "execution_count": null,
   "source": [
    "\"\"\" from sklearn.metrics import mean_absolute_error \"\"\""
   ],
   "outputs": [],
   "metadata": {}
  },
  {
   "cell_type": "code",
   "execution_count": null,
   "source": [
    "\"\"\" mae = mean_absolute_error(labels, y_valid)\n",
    "print(mae) \"\"\""
   ],
   "outputs": [],
   "metadata": {}
  }
 ],
 "metadata": {
  "interpreter": {
   "hash": "aee8b7b246df8f9039afb4144a1f6fd8d2ca17a180786b69acc140d282b71a49"
  },
  "kernelspec": {
   "name": "python3",
   "display_name": "Python 3.9.6 64-bit"
  },
  "language_info": {
   "codemirror_mode": {
    "name": "ipython",
    "version": 3
   },
   "file_extension": ".py",
   "mimetype": "text/x-python",
   "name": "python",
   "nbconvert_exporter": "python",
   "pygments_lexer": "ipython3",
   "version": "3.9.6"
  }
 },
 "nbformat": 4,
 "nbformat_minor": 2
}