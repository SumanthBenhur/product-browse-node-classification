{
 "cells": [
  {
   "cell_type": "code",
   "execution_count": 1,
   "metadata": {},
   "outputs": [],
   "source": [
    "import pandas as pd\n",
    "import numpy as np\n",
    "import csv\n",
    "import matplotlib.pyplot as plt\n",
    "import random\n",
    "import seaborn as sns\n"
   ]
  },
  {
   "cell_type": "code",
   "execution_count": 2,
   "metadata": {},
   "outputs": [],
   "source": [
    "# Read 1% data\n",
    "p = 0.01\n",
    "train = pd.read_csv('dataset/train.csv', escapechar = \"\\\\\", quoting = csv.QUOTE_NONE, skiprows=lambda i: i>0 and random.random() > p)\n",
    "test = pd.read_csv('dataset/test.csv',escapechar = \"\\\\\", quoting = csv.QUOTE_NONE, skiprows=lambda i: i>0 and random.random() > p)"
   ]
  },
  {
   "cell_type": "code",
   "execution_count": 3,
   "metadata": {},
   "outputs": [
    {
     "name": "stdout",
     "output_type": "stream",
     "text": [
      "<class 'pandas.core.frame.DataFrame'>\n",
      "RangeIndex: 28950 entries, 0 to 28949\n",
      "Data columns (total 5 columns):\n",
      " #   Column          Non-Null Count  Dtype \n",
      "---  ------          --------------  ----- \n",
      " 0   TITLE           28950 non-null  object\n",
      " 1   DESCRIPTION     21821 non-null  object\n",
      " 2   BULLET_POINTS   27333 non-null  object\n",
      " 3   BRAND           28429 non-null  object\n",
      " 4   BROWSE_NODE_ID  28950 non-null  int64 \n",
      "dtypes: int64(1), object(4)\n",
      "memory usage: 35.8 MB\n",
      "<class 'pandas.core.frame.DataFrame'>\n",
      "RangeIndex: 1161 entries, 0 to 1160\n",
      "Data columns (total 5 columns):\n",
      " #   Column         Non-Null Count  Dtype \n",
      "---  ------         --------------  ----- \n",
      " 0   PRODUCT_ID     1161 non-null   int64 \n",
      " 1   TITLE          1161 non-null   object\n",
      " 2   DESCRIPTION    1045 non-null   object\n",
      " 3   BULLET_POINTS  1078 non-null   object\n",
      " 4   BRAND          1129 non-null   object\n",
      "dtypes: int64(1), object(4)\n",
      "memory usage: 1.7 MB\n"
     ]
    }
   ],
   "source": [
    "train.info(memory_usage= \"deep\")\n",
    "test.info(memory_usage=\"deep\")"
   ]
  },
  {
   "cell_type": "code",
   "execution_count": 4,
   "metadata": {},
   "outputs": [
    {
     "data": {
      "text/plain": [
       "(28950, 5)"
      ]
     },
     "execution_count": 4,
     "metadata": {},
     "output_type": "execute_result"
    }
   ],
   "source": [
    "train.shape\n"
   ]
  },
  {
   "cell_type": "code",
   "execution_count": 6,
   "metadata": {},
   "outputs": [
    {
     "data": {
      "text/html": [
       "<div>\n",
       "<style scoped>\n",
       "    .dataframe tbody tr th:only-of-type {\n",
       "        vertical-align: middle;\n",
       "    }\n",
       "\n",
       "    .dataframe tbody tr th {\n",
       "        vertical-align: top;\n",
       "    }\n",
       "\n",
       "    .dataframe thead th {\n",
       "        text-align: right;\n",
       "    }\n",
       "</style>\n",
       "<table border=\"1\" class=\"dataframe\">\n",
       "  <thead>\n",
       "    <tr style=\"text-align: right;\">\n",
       "      <th></th>\n",
       "      <th>PRODUCT_ID</th>\n",
       "      <th>TITLE</th>\n",
       "      <th>DESCRIPTION</th>\n",
       "      <th>BULLET_POINTS</th>\n",
       "      <th>BRAND</th>\n",
       "    </tr>\n",
       "  </thead>\n",
       "  <tbody>\n",
       "    <tr>\n",
       "      <th>0</th>\n",
       "      <td>202</td>\n",
       "      <td>Ma Gayatri Traders Stretchy Rubber Small Elast...</td>\n",
       "      <td>&lt;p&gt;Our brands believes to provide the good qua...</td>\n",
       "      <td>[Rubber Bands are perfect for any occasion.,Hi...</td>\n",
       "      <td>Ma Gayatri Traders</td>\n",
       "    </tr>\n",
       "    <tr>\n",
       "      <th>1</th>\n",
       "      <td>239</td>\n",
       "      <td>SixSixOne Comp Repeater Gloves (Black/Cyan, XX...</td>\n",
       "      <td>&lt;br/&gt;body p {&lt;br/&gt; font-family: Arial, Helveti...</td>\n",
       "      <td>XX-Large (12)</td>\n",
       "      <td>SixSixOne</td>\n",
       "    </tr>\n",
       "    <tr>\n",
       "      <th>2</th>\n",
       "      <td>326</td>\n",
       "      <td>Nutristar No. 5 Pure Copper Water Storage Pot ...</td>\n",
       "      <td>Nutristar Copper Water Storage Pot with Tap Ca...</td>\n",
       "      <td>[Nutristar Pure Copper Water Storage Pot with ...</td>\n",
       "      <td>Nutristar No. 5</td>\n",
       "    </tr>\n",
       "    <tr>\n",
       "      <th>3</th>\n",
       "      <td>361</td>\n",
       "      <td>Huawei Mate 20 Pro Case,Huawei Mate 20 Pro Cas...</td>\n",
       "      <td>Features:&lt;br&gt;&lt;br&gt;- 100% brand new and high qua...</td>\n",
       "      <td>[Multiple card slots. Compartment to store cha...</td>\n",
       "      <td>Danallc</td>\n",
       "    </tr>\n",
       "    <tr>\n",
       "      <th>4</th>\n",
       "      <td>401</td>\n",
       "      <td>ISEE 360® Panda Laptop Sticker Laptop Skin All...</td>\n",
       "      <td>ISEE 360 Specializes High Quality Vinyl Die Cu...</td>\n",
       "      <td>[Suitable for All Laptops,Decal Color: Black,S...</td>\n",
       "      <td>ISEE 360</td>\n",
       "    </tr>\n",
       "  </tbody>\n",
       "</table>\n",
       "</div>"
      ],
      "text/plain": [
       "   PRODUCT_ID                                              TITLE  \\\n",
       "0         202  Ma Gayatri Traders Stretchy Rubber Small Elast...   \n",
       "1         239  SixSixOne Comp Repeater Gloves (Black/Cyan, XX...   \n",
       "2         326  Nutristar No. 5 Pure Copper Water Storage Pot ...   \n",
       "3         361  Huawei Mate 20 Pro Case,Huawei Mate 20 Pro Cas...   \n",
       "4         401  ISEE 360® Panda Laptop Sticker Laptop Skin All...   \n",
       "\n",
       "                                         DESCRIPTION  \\\n",
       "0  <p>Our brands believes to provide the good qua...   \n",
       "1  <br/>body p {<br/> font-family: Arial, Helveti...   \n",
       "2  Nutristar Copper Water Storage Pot with Tap Ca...   \n",
       "3  Features:<br><br>- 100% brand new and high qua...   \n",
       "4  ISEE 360 Specializes High Quality Vinyl Die Cu...   \n",
       "\n",
       "                                       BULLET_POINTS               BRAND  \n",
       "0  [Rubber Bands are perfect for any occasion.,Hi...  Ma Gayatri Traders  \n",
       "1                                      XX-Large (12)           SixSixOne  \n",
       "2  [Nutristar Pure Copper Water Storage Pot with ...     Nutristar No. 5  \n",
       "3  [Multiple card slots. Compartment to store cha...             Danallc  \n",
       "4  [Suitable for All Laptops,Decal Color: Black,S...            ISEE 360  "
      ]
     },
     "execution_count": 6,
     "metadata": {},
     "output_type": "execute_result"
    }
   ],
   "source": [
    "test.shape\n",
    "test.head()"
   ]
  },
  {
   "cell_type": "code",
   "execution_count": 7,
   "metadata": {},
   "outputs": [
    {
     "data": {
      "text/plain": [
       "3703"
      ]
     },
     "execution_count": 7,
     "metadata": {},
     "output_type": "execute_result"
    }
   ],
   "source": [
    "# Count number of classes / product browse nodes\n",
    "len(train['BROWSE_NODE_ID'].unique())"
   ]
  },
  {
   "cell_type": "code",
   "execution_count": 8,
   "metadata": {},
   "outputs": [
    {
     "data": {
      "text/plain": [
       "15159"
      ]
     },
     "execution_count": 8,
     "metadata": {},
     "output_type": "execute_result"
    }
   ],
   "source": [
    "len(train['BRAND'].unique())"
   ]
  },
  {
   "cell_type": "code",
   "execution_count": 9,
   "metadata": {},
   "outputs": [
    {
     "data": {
      "text/plain": [
       "810"
      ]
     },
     "execution_count": 9,
     "metadata": {},
     "output_type": "execute_result"
    }
   ],
   "source": [
    "len(test['BRAND'].unique())"
   ]
  },
  {
   "cell_type": "code",
   "execution_count": 9,
   "metadata": {},
   "outputs": [
    {
     "name": "stderr",
     "output_type": "stream",
     "text": [
      "c:\\users\\suresh benhur\\appdata\\local\\programs\\python\\python37\\lib\\site-packages\\seaborn\\_decorators.py:43: FutureWarning: Pass the following variable as a keyword arg: x. From version 0.12, the only valid positional argument will be `data`, and passing other arguments without an explicit keyword will result in an error or misinterpretation.\n",
      "  FutureWarning\n"
     ]
    },
    {
     "data": {
      "text/plain": [
       "<matplotlib.axes._subplots.AxesSubplot at 0x27f09748148>"
      ]
     },
     "execution_count": 9,
     "metadata": {},
     "output_type": "execute_result"
    },
    {
     "data": {
      "image/png": "[encoded data removed]",
      "text/plain": [
       "<Figure size 432x288 with 1 Axes>"
      ]
     },
     "metadata": {
      "needs_background": "light"
     },
     "output_type": "display_data"
    }
   ],
   "source": [
    "sns.countplot(train['BROWSE_NODE_ID'], color='gray')"
   ]
  },
  {
   "cell_type": "markdown",
   "metadata": {},
   "source": [
    "## Only TITLE and DESC cloumns are considered for training "
   ]
  },
  {
   "cell_type": "code",
   "execution_count": 10,
   "metadata": {},
   "outputs": [],
   "source": [
    "X = train[['TITLE', 'DESCRIPTION']]\n",
    "y = train['BROWSE_NODE_ID']"
   ]
  },
  {
   "cell_type": "code",
   "execution_count": 11,
   "metadata": {
    "scrolled": true
   },
   "outputs": [
    {
     "name": "stdout",
     "output_type": "stream",
     "text": [
      "<class 'pandas.core.frame.DataFrame'>\n",
      "RangeIndex: 28950 entries, 0 to 28949\n",
      "Data columns (total 2 columns):\n",
      " #   Column       Non-Null Count  Dtype \n",
      "---  ------       --------------  ----- \n",
      " 0   TITLE        28950 non-null  object\n",
      " 1   DESCRIPTION  21821 non-null  object\n",
      "dtypes: object(2)\n",
      "memory usage: 19.8 MB\n"
     ]
    }
   ],
   "source": [
    "X.info(memory_usage = 'deep')"
   ]
  },
  {
   "cell_type": "code",
   "execution_count": 13,
   "metadata": {},
   "outputs": [
    {
     "data": {
      "text/html": [
       "<div>\n",
       "<style scoped>\n",
       "    .dataframe tbody tr th:only-of-type {\n",
       "        vertical-align: middle;\n",
       "    }\n",
       "\n",
       "    .dataframe tbody tr th {\n",
       "        vertical-align: top;\n",
       "    }\n",
       "\n",
       "    .dataframe thead th {\n",
       "        text-align: right;\n",
       "    }\n",
       "</style>\n",
       "<table border=\"1\" class=\"dataframe\">\n",
       "  <thead>\n",
       "    <tr style=\"text-align: right;\">\n",
       "      <th></th>\n",
       "      <th>TITLE</th>\n",
       "      <th>DESCRIPTION</th>\n",
       "    </tr>\n",
       "  </thead>\n",
       "  <tbody>\n",
       "    <tr>\n",
       "      <th>0</th>\n",
       "      <td>Take-N-PlayTM Talking Gordon</td>\n",
       "      <td>Your favorite engines come to life with phrase...</td>\n",
       "    </tr>\n",
       "    <tr>\n",
       "      <th>1</th>\n",
       "      <td>3M E-A-R Classic SuperFit 33 Uncorded Earplugs...</td>\n",
       "      <td>3M E-A-R Classic SuperFit 33 Uncorded Earplugs...</td>\n",
       "    </tr>\n",
       "    <tr>\n",
       "      <th>2</th>\n",
       "      <td>Armaf Tag Him Perfume for Men EDT, 100ml</td>\n",
       "      <td>NaN</td>\n",
       "    </tr>\n",
       "    <tr>\n",
       "      <th>3</th>\n",
       "      <td>Integy RC Model Hop-ups C24455GUN Billet Alloy...</td>\n",
       "      <td>NaN</td>\n",
       "    </tr>\n",
       "    <tr>\n",
       "      <th>4</th>\n",
       "      <td>Mattel Disney Planes Bulldog Giftset</td>\n",
       "      <td>Disney Planes Character Giftset Collection: Ba...</td>\n",
       "    </tr>\n",
       "  </tbody>\n",
       "</table>\n",
       "</div>"
      ],
      "text/plain": [
       "                                               TITLE  \\\n",
       "0                       Take-N-PlayTM Talking Gordon   \n",
       "1  3M E-A-R Classic SuperFit 33 Uncorded Earplugs...   \n",
       "2           Armaf Tag Him Perfume for Men EDT, 100ml   \n",
       "3  Integy RC Model Hop-ups C24455GUN Billet Alloy...   \n",
       "4               Mattel Disney Planes Bulldog Giftset   \n",
       "\n",
       "                                         DESCRIPTION  \n",
       "0  Your favorite engines come to life with phrase...  \n",
       "1  3M E-A-R Classic SuperFit 33 Uncorded Earplugs...  \n",
       "2                                                NaN  \n",
       "3                                                NaN  \n",
       "4  Disney Planes Character Giftset Collection: Ba...  "
      ]
     },
     "execution_count": 13,
     "metadata": {},
     "output_type": "execute_result"
    }
   ],
   "source": [
    "X.head()"
   ]
  },
  {
   "cell_type": "code",
   "execution_count": 14,
   "metadata": {},
   "outputs": [
    {
     "data": {
      "text/plain": [
       "40"
      ]
     },
     "execution_count": 14,
     "metadata": {},
     "output_type": "execute_result"
    }
   ],
   "source": [
    "# Deleting train to free up RAM\n",
    "import gc\n",
    "del train\n",
    "gc.collect()"
   ]
  },
  {
   "cell_type": "code",
   "execution_count": 15,
   "metadata": {},
   "outputs": [],
   "source": [
    "# import libs for preprocessing\n",
    "import texthero as hero\n",
    "from texthero import preprocessing"
   ]
  },
  {
   "cell_type": "code",
   "execution_count": 16,
   "metadata": {},
   "outputs": [],
   "source": [
    "# text preprocessing / cleaning - \n",
    "\n",
    "X['TITLE'] = hero.clean(X['TITLE'])\n",
    "X['DESCRIPTION'] = hero.clean(X['DESCRIPTION'])"
   ]
  },
  {
   "cell_type": "code",
   "execution_count": 17,
   "metadata": {},
   "outputs": [
    {
     "data": {
      "text/html": [
       "<div>\n",
       "<style scoped>\n",
       "    .dataframe tbody tr th:only-of-type {\n",
       "        vertical-align: middle;\n",
       "    }\n",
       "\n",
       "    .dataframe tbody tr th {\n",
       "        vertical-align: top;\n",
       "    }\n",
       "\n",
       "    .dataframe thead th {\n",
       "        text-align: right;\n",
       "    }\n",
       "</style>\n",
       "<table border=\"1\" class=\"dataframe\">\n",
       "  <thead>\n",
       "    <tr style=\"text-align: right;\">\n",
       "      <th></th>\n",
       "      <th>TITLE</th>\n",
       "      <th>DESCRIPTION</th>\n",
       "    </tr>\n",
       "  </thead>\n",
       "  <tbody>\n",
       "    <tr>\n",
       "      <th>0</th>\n",
       "      <td>take n playtm talking gordon</td>\n",
       "      <td>favorite engines come life phrases whistles fu...</td>\n",
       "    </tr>\n",
       "    <tr>\n",
       "      <th>1</th>\n",
       "      <td>3m e r classic superfit uncorded earplugs pill...</td>\n",
       "      <td>3m e r classic superfit uncorded earplugs</td>\n",
       "    </tr>\n",
       "    <tr>\n",
       "      <th>2</th>\n",
       "      <td>armaf tag perfume men edt 100ml</td>\n",
       "      <td></td>\n",
       "    </tr>\n",
       "    <tr>\n",
       "      <th>3</th>\n",
       "      <td>integy rc model hop ups c24455gun billet alloy...</td>\n",
       "      <td></td>\n",
       "    </tr>\n",
       "    <tr>\n",
       "      <th>4</th>\n",
       "      <td>mattel disney planes bulldog giftset</td>\n",
       "      <td>disney planes character giftset collection bas...</td>\n",
       "    </tr>\n",
       "  </tbody>\n",
       "</table>\n",
       "</div>"
      ],
      "text/plain": [
       "                                               TITLE  \\\n",
       "0                       take n playtm talking gordon   \n",
       "1  3m e r classic superfit uncorded earplugs pill...   \n",
       "2                    armaf tag perfume men edt 100ml   \n",
       "3  integy rc model hop ups c24455gun billet alloy...   \n",
       "4               mattel disney planes bulldog giftset   \n",
       "\n",
       "                                         DESCRIPTION  \n",
       "0  favorite engines come life phrases whistles fu...  \n",
       "1          3m e r classic superfit uncorded earplugs  \n",
       "2                                                     \n",
       "3                                                     \n",
       "4  disney planes character giftset collection bas...  "
      ]
     },
     "execution_count": 17,
     "metadata": {},
     "output_type": "execute_result"
    }
   ],
   "source": [
    "X.head()"
   ]
  },
  {
   "cell_type": "code",
   "execution_count": 18,
   "metadata": {},
   "outputs": [],
   "source": [
    "# Creating column for corpus for each row\n",
    "X['CORPUS'] = X[\"TITLE\"] + X['DESCRIPTION']"
   ]
  },
  {
   "cell_type": "code",
   "execution_count": 19,
   "metadata": {},
   "outputs": [
    {
     "data": {
      "text/html": [
       "<div>\n",
       "<style scoped>\n",
       "    .dataframe tbody tr th:only-of-type {\n",
       "        vertical-align: middle;\n",
       "    }\n",
       "\n",
       "    .dataframe tbody tr th {\n",
       "        vertical-align: top;\n",
       "    }\n",
       "\n",
       "    .dataframe thead th {\n",
       "        text-align: right;\n",
       "    }\n",
       "</style>\n",
       "<table border=\"1\" class=\"dataframe\">\n",
       "  <thead>\n",
       "    <tr style=\"text-align: right;\">\n",
       "      <th></th>\n",
       "      <th>TITLE</th>\n",
       "      <th>DESCRIPTION</th>\n",
       "      <th>CORPUS</th>\n",
       "    </tr>\n",
       "  </thead>\n",
       "  <tbody>\n",
       "    <tr>\n",
       "      <th>0</th>\n",
       "      <td>take n playtm talking gordon</td>\n",
       "      <td>favorite engines come life phrases whistles fu...</td>\n",
       "      <td>take n playtm talking gordonfavorite engines c...</td>\n",
       "    </tr>\n",
       "    <tr>\n",
       "      <th>1</th>\n",
       "      <td>3m e r classic superfit uncorded earplugs pill...</td>\n",
       "      <td>3m e r classic superfit uncorded earplugs</td>\n",
       "      <td>3m e r classic superfit uncorded earplugs pill...</td>\n",
       "    </tr>\n",
       "    <tr>\n",
       "      <th>2</th>\n",
       "      <td>armaf tag perfume men edt 100ml</td>\n",
       "      <td></td>\n",
       "      <td>armaf tag perfume men edt 100ml</td>\n",
       "    </tr>\n",
       "    <tr>\n",
       "      <th>3</th>\n",
       "      <td>integy rc model hop ups c24455gun billet alloy...</td>\n",
       "      <td></td>\n",
       "      <td>integy rc model hop ups c24455gun billet alloy...</td>\n",
       "    </tr>\n",
       "    <tr>\n",
       "      <th>4</th>\n",
       "      <td>mattel disney planes bulldog giftset</td>\n",
       "      <td>disney planes character giftset collection bas...</td>\n",
       "      <td>mattel disney planes bulldog giftsetdisney pla...</td>\n",
       "    </tr>\n",
       "  </tbody>\n",
       "</table>\n",
       "</div>"
      ],
      "text/plain": [
       "                                               TITLE  \\\n",
       "0                       take n playtm talking gordon   \n",
       "1  3m e r classic superfit uncorded earplugs pill...   \n",
       "2                    armaf tag perfume men edt 100ml   \n",
       "3  integy rc model hop ups c24455gun billet alloy...   \n",
       "4               mattel disney planes bulldog giftset   \n",
       "\n",
       "                                         DESCRIPTION  \\\n",
       "0  favorite engines come life phrases whistles fu...   \n",
       "1          3m e r classic superfit uncorded earplugs   \n",
       "2                                                      \n",
       "3                                                      \n",
       "4  disney planes character giftset collection bas...   \n",
       "\n",
       "                                              CORPUS  \n",
       "0  take n playtm talking gordonfavorite engines c...  \n",
       "1  3m e r classic superfit uncorded earplugs pill...  \n",
       "2                    armaf tag perfume men edt 100ml  \n",
       "3  integy rc model hop ups c24455gun billet alloy...  \n",
       "4  mattel disney planes bulldog giftsetdisney pla...  "
      ]
     },
     "execution_count": 19,
     "metadata": {},
     "output_type": "execute_result"
    }
   ],
   "source": [
    "X.head()"
   ]
  },
  {
   "cell_type": "code",
   "execution_count": 20,
   "metadata": {},
   "outputs": [],
   "source": [
    "from sklearn.model_selection import train_test_split\n",
    "X_train, X_valid, y_train, y_valid = train_test_split(X, y, train_size = 0.8, test_size = 0.2, random_state = 0)"
   ]
  },
  {
   "cell_type": "code",
   "execution_count": 21,
   "metadata": {},
   "outputs": [],
   "source": [
    "from sklearn.feature_extraction.text import TfidfVectorizer\n",
    "from sklearn.naive_bayes import MultinomialNB\n",
    "from sklearn.pipeline import make_pipeline"
   ]
  },
  {
   "cell_type": "code",
   "execution_count": 23,
   "metadata": {},
   "outputs": [
    {
     "data": {
      "text/plain": [
       "Pipeline(steps=[('tfidfvectorizer', TfidfVectorizer()),\n",
       "                ('multinomialnb', MultinomialNB())])"
      ]
     },
     "execution_count": 23,
     "metadata": {},
     "output_type": "execute_result"
    }
   ],
   "source": [
    "model=make_pipeline(TfidfVectorizer(),MultinomialNB())\n",
    "model.fit(X_train['CORPUS'],y_train)"
   ]
  },
  {
   "cell_type": "code",
   "execution_count": 24,
   "metadata": {},
   "outputs": [],
   "source": [
    "predictions = model.predict(X_valid['CORPUS'])"
   ]
  },
  {
   "cell_type": "code",
   "execution_count": 25,
   "metadata": {},
   "outputs": [],
   "source": [
    "from sklearn.metrics import mean_absolute_error"
   ]
  },
  {
   "cell_type": "code",
   "execution_count": 26,
   "metadata": {},
   "outputs": [
    {
     "name": "stdout",
     "output_type": "stream",
     "text": [
      "9864.26597582038\n"
     ]
    }
   ],
   "source": [
    "mae = mean_absolute_error(predictions, y_valid)\n",
    "print(mae)"
   ]
  },
  {
   "cell_type": "code",
   "execution_count": 27,
   "metadata": {},
   "outputs": [
    {
     "name": "stdout",
     "output_type": "stream",
     "text": [
      "0.15284974093264247\n"
     ]
    }
   ],
   "source": [
    "from sklearn.metrics import accuracy_score\n",
    "print(accuracy_score(y_valid, predictions))"
   ]
  },
  {
   "cell_type": "code",
   "execution_count": null,
   "metadata": {},
   "outputs": [],
   "source": []
  }
 ],
 "metadata": {
  "interpreter": {
   "hash": "aee8b7b246df8f9039afb4144a1f6fd8d2ca17a180786b69acc140d282b71a49"
  },
  "kernelspec": {
   "display_name": "Python 3",
   "language": "python",
   "name": "python3"
  },
  "language_info": {
   "codemirror_mode": {
    "name": "ipython",
    "version": 3
   },
   "file_extension": ".py",
   "mimetype": "text/x-python",
   "name": "python",
   "nbconvert_exporter": "python",
   "pygments_lexer": "ipython3",
   "version": "3.7.4"
  }
 },
 "nbformat": 4,
 "nbformat_minor": 2
}
